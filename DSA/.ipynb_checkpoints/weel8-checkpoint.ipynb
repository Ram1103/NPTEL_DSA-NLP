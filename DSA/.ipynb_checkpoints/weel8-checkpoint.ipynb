{
 "cells": [
  {
   "cell_type": "code",
   "execution_count": 2,
   "id": "2fb495d2-ec8f-4e88-bec8-e34451dfce92",
   "metadata": {},
   "outputs": [
    {
     "ename": "ValueError",
     "evalue": "invalid literal for int() with base 10: ''",
     "output_type": "error",
     "traceback": [
      "\u001b[1;31m---------------------------------------------------------------------------\u001b[0m",
      "\u001b[1;31mValueError\u001b[0m                                Traceback (most recent call last)",
      "\u001b[1;32m~\\AppData\\Local\\Temp\\ipykernel_840\\2046034053.py\u001b[0m in \u001b[0;36m<module>\u001b[1;34m\u001b[0m\n\u001b[0;32m      1\u001b[0m \u001b[1;32mimport\u001b[0m \u001b[0msys\u001b[0m\u001b[1;33m\u001b[0m\u001b[1;33m\u001b[0m\u001b[0m\n\u001b[0;32m      2\u001b[0m \u001b[0minput\u001b[0m \u001b[1;33m=\u001b[0m \u001b[0msys\u001b[0m\u001b[1;33m.\u001b[0m\u001b[0mstdin\u001b[0m\u001b[1;33m.\u001b[0m\u001b[0mreadline\u001b[0m\u001b[1;33m\u001b[0m\u001b[1;33m\u001b[0m\u001b[0m\n\u001b[1;32m----> 3\u001b[1;33m \u001b[0mline1\u001b[0m \u001b[1;33m=\u001b[0m \u001b[0mlist\u001b[0m\u001b[1;33m(\u001b[0m\u001b[0mmap\u001b[0m\u001b[1;33m(\u001b[0m\u001b[0mint\u001b[0m\u001b[1;33m,\u001b[0m\u001b[0minput\u001b[0m\u001b[1;33m(\u001b[0m\u001b[1;33m)\u001b[0m\u001b[1;33m.\u001b[0m\u001b[0msplit\u001b[0m\u001b[1;33m(\u001b[0m\u001b[1;34m\" \"\u001b[0m\u001b[1;33m)\u001b[0m\u001b[1;33m)\u001b[0m\u001b[1;33m)\u001b[0m\u001b[1;33m\u001b[0m\u001b[1;33m\u001b[0m\u001b[0m\n\u001b[0m\u001b[0;32m      4\u001b[0m \u001b[0mk\u001b[0m \u001b[1;33m=\u001b[0m \u001b[0mline1\u001b[0m\u001b[1;33m[\u001b[0m\u001b[1;36m2\u001b[0m\u001b[1;33m]\u001b[0m\u001b[1;33m\u001b[0m\u001b[1;33m\u001b[0m\u001b[0m\n\u001b[0;32m      5\u001b[0m \u001b[0md\u001b[0m \u001b[1;33m=\u001b[0m \u001b[0mline1\u001b[0m\u001b[1;33m[\u001b[0m\u001b[1;36m3\u001b[0m\u001b[1;33m]\u001b[0m\u001b[1;33m\u001b[0m\u001b[1;33m\u001b[0m\u001b[0m\n",
      "\u001b[1;31mValueError\u001b[0m: invalid literal for int() with base 10: ''"
     ]
    }
   ],
   "source": [
    "import sys\n",
    "input = sys.stdin.readline\n",
    "line1 = list(map(int,input().split(\" \")))\n",
    "k = line1[2]\n",
    "d = line1[3]\n",
    "dList = [[0,0]]\n",
    "for i in range(d):\n",
    "    tempList = list(map(int,input().split(\" \")))\n",
    "    dList.append(tempList)\n",
    "    sorted_dList = sorted(dList,key= lambda x: (x[0],x[1]))\n",
    "    memodict_distance = {}\n",
    "    memodict_mindist = {}\n",
    "\n",
    "def distance(j1,j2):\n",
    "    global memodict_distance\n",
    "    stepx = abs((sorted_dList[j1][0])-(sorted_dList[j2][0]))\n",
    "    stepy = abs((sorted_dList[j1][1])-(sorted_dList[j2][1]))\n",
    "    steps = stepx + stepy\n",
    "    memodict_distance[(f\"{j1},{j2}\")] = steps\n",
    "    return memodict_distance[(f\"{j1},{j2}\")]\n",
    "\n",
    "def mindist(i,j):\n",
    "    global memodict_distance\n",
    "    global memodict_mindist\n",
    "    if i == 1:\n",
    "        return distance(0,j)\n",
    "    else:\n",
    "        distanceList = []\n",
    "    for x in range(i-1,j):\n",
    "        if (f\"{i-1},{x}\") in memodict_mindist:\n",
    "            if (f\"{x},{j}\") in memodict_distance:\n",
    "                distanceList.append(memodict_mindist[f\"{i-1},{x}\"]+memodict_distance[f\"{x},{j}\"])\n",
    "            else:\n",
    "                distanceList.append(memodict_mindist[f\"{i-1},{x}\"]+distance(x,j))\n",
    "\n",
    "        else:\n",
    "            memodict_mindist[f\"{i-1},{x}\"] = mindist(i-1,x)\n",
    "            if (f\"{x},{j}\") in memodict_distance:\n",
    "                distanceList.append(memodict_mindist[f\"{i-1},{x}\"]+memodict_distance[f\"{x},{j}\"])\n",
    "            else:\n",
    "                distanceList.append(memodict_mindist[f\"{i-1},{x}\"]+distance(x,j))\n",
    "\n",
    "    return min(distanceList)\n",
    "\n",
    "minsteps = []\n",
    "for j in range((len(sorted_dList)-1),k-1,-1):\n",
    "    minsteps.append(mindist(k,j))\n",
    "\n",
    "print(min(minsteps))"
   ]
  },
  {
   "cell_type": "code",
   "execution_count": null,
   "id": "e32b0167-b7d3-4880-ad24-dcc270952420",
   "metadata": {},
   "outputs": [],
   "source": []
  }
 ],
 "metadata": {
  "kernelspec": {
   "display_name": "Python 3 (ipykernel)",
   "language": "python",
   "name": "python3"
  },
  "language_info": {
   "codemirror_mode": {
    "name": "ipython",
    "version": 3
   },
   "file_extension": ".py",
   "mimetype": "text/x-python",
   "name": "python",
   "nbconvert_exporter": "python",
   "pygments_lexer": "ipython3",
   "version": "3.9.13"
  }
 },
 "nbformat": 4,
 "nbformat_minor": 5
}
