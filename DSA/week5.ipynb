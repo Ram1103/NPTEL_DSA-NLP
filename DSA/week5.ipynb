{
 "cells": [
  {
   "cell_type": "code",
   "execution_count": null,
   "id": "e2e1f6ea-e2fc-4c1f-85e5-fd51c08276f4",
   "metadata": {},
   "outputs": [
    {
     "name": "stdin",
     "output_type": "stream",
     "text": [
      " Bookws\n"
     ]
    }
   ],
   "source": []
  },
  {
   "cell_type": "code",
   "execution_count": 2,
   "id": "db71b911-2dd0-498a-b589-8ff445f9b99a",
   "metadata": {},
   "outputs": [
    {
     "name": "stdin",
     "output_type": "stream",
     "text": [
      " Books\n",
      " APM-001~Advanced Potion-Making\n",
      " Borrowers\n",
      " SLY2301~Hannah Abbott\n",
      " Checkouts\n",
      " SLY2301~APM-001~2019-04-03\n",
      " EndOfInput\n"
     ]
    },
    {
     "name": "stdout",
     "output_type": "stream",
     "text": [
      "[2019, 4, 3]\n",
      "(2019, 4, 3, 'Hannah Abbott', 'APM-001')\n",
      "2019-04-03~Hannah Abbott~APM-001~Advanced Potion-Making\n"
     ]
    }
   ],
   "source": [
    "def sortdates(checkout):\n",
    "    key = list(map(int,checkout[1].split('-')))\n",
    "    print(key)\n",
    "    key.append(borrowers[checkout[0][0]])\n",
    "    key.append(checkout[0][1])\n",
    "    print (tuple(key))\n",
    "    return tuple(key)\n",
    "    \n",
    "\n",
    "books = dict()\n",
    "borrowers = dict()\n",
    "checkouts = dict()\n",
    "temp = None\n",
    "while(True):\n",
    "    line = input()\n",
    "    if(line == 'Books'):\n",
    "        temp = 'Books'\n",
    "        continue\n",
    "    elif(line == 'Borrowers'):\n",
    "        temp = 'Borrowers'\n",
    "        continue\n",
    "    elif(line == 'Checkouts'):\n",
    "        temp = 'Checkouts'\n",
    "        continue\n",
    "    elif(line == 'EndOfInput'):\n",
    "        break\n",
    "    elif(temp == 'Books'):\n",
    "        access_no,title = line.split('~')\n",
    "        books[access_no] = title\n",
    "    elif(temp == 'Borrowers'):\n",
    "        usercode,name = line.split('~')\n",
    "        borrowers[usercode] = name\n",
    "    elif(temp == 'Checkouts'):\n",
    "        usercode,access_no,due_date = line.split('~')\n",
    "        checkouts[(usercode,access_no)] = due_date\n",
    "\n",
    "checkouts = sorted(checkouts.items(), key=sortdates)\n",
    "\n",
    "\n",
    "for checkout in checkouts:\n",
    "    line = checkout[1]+'~'+borrowers[checkout[0][0]]+'~'+\\\n",
    "           checkout[0][1]+'~'+books[checkout[0][1]]\n",
    "    print(line)"
   ]
  },
  {
   "cell_type": "code",
   "execution_count": null,
   "id": "7f2e9c51-79cd-4878-a2f1-6f9916259d8c",
   "metadata": {},
   "outputs": [],
   "source": [
    "def sortdates(checkout):\n",
    "    key = list(map(int,checkout[1].split('-')))\n",
    "    #print(key)\n",
    "    key.append(borrowers[checkout[0][0]])\n",
    "    key.append(checkout[0][1])\n",
    "    print (tuple(key))\n",
    "    return tuple(key)\n",
    "    \n",
    "\n",
    "books = dict()\n",
    "borrowers = dict()\n",
    "checkouts = dict()\n",
    "temp = None\n",
    "while(True):\n",
    "    line = input()\n",
    "    if(line == 'Books'):\n",
    "        temp = 'Books'\n",
    "        continue\n",
    "    elif(line == 'Borrowers'):\n",
    "        temp = 'Borrowers'\n",
    "        continue\n",
    "    elif(line == 'Checkouts'):\n",
    "        temp = 'Checkouts'\n",
    "        continue\n",
    "    elif(line == 'EndOfInput'):\n",
    "        break\n",
    "    elif(temp == 'Books'):\n",
    "        access_no,title = line.split('~')\n",
    "        books[access_no] = title\n",
    "    elif(temp == 'Borrowers'):\n",
    "        usercode,name = line.split('~')\n",
    "        borrowers[usercode] = name\n",
    "    elif(temp == 'Checkouts'):\n",
    "        usercode,access_no,due_date = line.split('~')\n",
    "        checkouts[(usercode,access_no)] = due_date\n",
    "\n",
    "checkouts = sorted(checkouts.items(), key=sortdates)\n",
    "\n",
    "\n",
    "for checkout in checkouts:\n",
    "    line = checkout[1]+'~'+borrowers[checkout[0][0]]+'~'+\\\n",
    "           checkout[0][1]+'~'+books[checkout[0][1]]\n",
    "    print(line)"
   ]
  },
  {
   "cell_type": "code",
   "execution_count": null,
   "id": "9df81778-a55b-45c8-91a5-72c54dfaddb0",
   "metadata": {},
   "outputs": [],
   "source": [
    "#the answer to the week 5 assignment!\n",
    "def sortdates(checkout):\n",
    "    key = list(map(int,checkout[1].split('-')))\n",
    "    #print(key)\n",
    "    key.append(borrowers[checkout[0][0]])\n",
    "    key.append(checkout[0][1])\n",
    "    \n",
    "    return tuple(key)\n",
    "    \n",
    "\n",
    "books = dict()\n",
    "borrowers = dict()\n",
    "checkouts = dict()\n",
    "temp = None\n",
    "while(True):\n",
    "    line = input()\n",
    "    if(line == 'Books'):\n",
    "        temp = 'Books'\n",
    "        continue\n",
    "    elif(line == 'Borrowers'):\n",
    "        temp = 'Borrowers'\n",
    "        continue\n",
    "    elif(line == 'Checkouts'):\n",
    "        temp = 'Checkouts'\n",
    "        continue\n",
    "    elif(line == 'EndOfInput'):\n",
    "        break\n",
    "    elif(temp == 'Books'):\n",
    "        access_no,title = line.split('~')\n",
    "        books[access_no] = title\n",
    "    elif(temp == 'Borrowers'):\n",
    "        usercode,name = line.split('~')\n",
    "        borrowers[usercode] = name\n",
    "    elif(temp == 'Checkouts'):\n",
    "        usercode,access_no,due_date = line.split('~')\n",
    "        checkouts[(usercode,access_no)] = due_date\n",
    "\n",
    "checkouts = sorted(checkouts.items(), key=sortdates)\n",
    "\n",
    "\n",
    "for checkout in checkouts:\n",
    "    line = checkout[1]+'~'+borrowers[checkout[0][0]]+'~'+\\\n",
    "           checkout[0][1]+'~'+books[checkout[0][1]]\n",
    "    print(line)"
   ]
  },
  {
   "cell_type": "code",
   "execution_count": null,
   "id": "42633b6b-36b5-42c2-9ef4-99702010022c",
   "metadata": {},
   "outputs": [],
   "source": []
  }
 ],
 "metadata": {
  "kernelspec": {
   "display_name": "Python 3 (ipykernel)",
   "language": "python",
   "name": "python3"
  },
  "language_info": {
   "codemirror_mode": {
    "name": "ipython",
    "version": 3
   },
   "file_extension": ".py",
   "mimetype": "text/x-python",
   "name": "python",
   "nbconvert_exporter": "python",
   "pygments_lexer": "ipython3",
   "version": "3.9.13"
  }
 },
 "nbformat": 4,
 "nbformat_minor": 5
}
