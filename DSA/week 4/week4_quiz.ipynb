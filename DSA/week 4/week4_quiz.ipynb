{
 "cells": [
  {
   "cell_type": "code",
   "execution_count": 4,
   "id": "a56f3c5e-ca13-46b7-b2f3-8cf9690ba7e9",
   "metadata": {},
   "outputs": [
    {
     "name": "stdout",
     "output_type": "stream",
     "text": [
      "[19, 65, 14, 82, 22, 55]\n"
     ]
    }
   ],
   "source": [
    "#q1 :\n",
    "def mystery(l):\n",
    "  if (l == []):\n",
    "    return(l)\n",
    "  else:\n",
    "    mid = len(l)//2\n",
    "    if (len(l)%2 == 0):\n",
    "      return l[mid-1:mid+1] + mystery(l[:mid-1]+l[mid+1:])\n",
    "    else:\n",
    "      return l[mid:mid+1] + mystery(l[:mid]+l[mid+1:])\n",
    "print(mystery([22,14,19,65,82,55]))"
   ]
  },
  {
   "cell_type": "code",
   "execution_count": 3,
   "id": "7784c7d6-cd99-4a60-b827-14ef249d2234",
   "metadata": {},
   "outputs": [
    {
     "name": "stdout",
     "output_type": "stream",
     "text": [
      "[(2, 4, 5), (3, 3, 5), (3, 4, 5), (3, 4, 6)]\n"
     ]
    }
   ],
   "source": [
    "#q2 :\n",
    "triples = [ (x,y,z) for x in range(1,4) for y in range(2,5) for z in range(5,8) if x+y > z ]\n",
    "print(triples)"
   ]
  },
  {
   "cell_type": "code",
   "execution_count": 6,
   "id": "7a306480-63df-420a-82d8-a5776802f036",
   "metadata": {},
   "outputs": [],
   "source": [
    "#q3 :\n",
    "marks = {\"Quizzes\":{\"Mahesh\":[3,5,7,8],\"Suresh\":[9,4,8,8],\"Uma\":[9,9,7,6]},\"Exams\":{\"Mahesh\":[37],\"Uma\":[36]}}\n",
    " # ans : marks[\"Exams\"][\"Suresh\"][0:] = [44]   "
   ]
  },
  {
   "cell_type": "code",
   "execution_count": 7,
   "id": "ed529995-3373-475e-bc43-a5c3a3da0cb3",
   "metadata": {},
   "outputs": [],
   "source": [
    "#q4 :\n",
    "actor = {}\n",
    " # ans :  actor[[\"Star Wars\", \"Rey\"]] = \"Ridley\""
   ]
  },
  {
   "cell_type": "code",
   "execution_count": null,
   "id": "0f0933f6-cfd9-4bd0-abc4-f1a8378001a2",
   "metadata": {},
   "outputs": [],
   "source": []
  }
 ],
 "metadata": {
  "kernelspec": {
   "display_name": "Python 3 (ipykernel)",
   "language": "python",
   "name": "python3"
  },
  "language_info": {
   "codemirror_mode": {
    "name": "ipython",
    "version": 3
   },
   "file_extension": ".py",
   "mimetype": "text/x-python",
   "name": "python",
   "nbconvert_exporter": "python",
   "pygments_lexer": "ipython3",
   "version": "3.9.13"
  }
 },
 "nbformat": 4,
 "nbformat_minor": 5
}
