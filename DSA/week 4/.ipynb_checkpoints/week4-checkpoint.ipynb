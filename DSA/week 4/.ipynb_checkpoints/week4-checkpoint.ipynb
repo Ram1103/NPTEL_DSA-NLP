{
 "cells": [
  {
   "cell_type": "code",
   "execution_count": 2,
   "id": "f5d0a4cf-066d-400e-8853-f10f1c2bb61e",
   "metadata": {},
   "outputs": [
    {
     "name": "stdout",
     "output_type": "stream",
     "text": [
      "[(1, 2.0), (2, 3.0), (3, 8.0)]\n"
     ]
    }
   ],
   "source": [
    "def rainaverage(l):\n",
    "    city_rainfall = {}\n",
    "    for city, rainfall in l:\n",
    "        if city not in city_rainfall:\n",
    "            city_rainfall[city] = [rainfall]\n",
    "        else:\n",
    "            city_rainfall[city].append(rainfall)\n",
    "    result = [(city, sum(rainfall) / len(rainfall)) for city, rainfall in city_rainfall.items()]\n",
    "    result.sort(key=lambda x: x[0])\n",
    "    return result\n",
    "\n",
    "print(rainaverage([(1,2),(1,3),(2,3),(1,1),(3,8)]))\n"
   ]
  },
  {
   "cell_type": "code",
   "execution_count": 16,
   "id": "0a102676-41be-4a1a-b8a7-5662cda1efbd",
   "metadata": {},
   "outputs": [
    {
     "name": "stdout",
     "output_type": "stream",
     "text": [
      "[1, 2, 3, (4, 5, 6)]\n"
     ]
    }
   ],
   "source": [
    "\n",
    "def listtype(l):\n",
    "  return(type(l) == type([]))\n",
    "def flatten(l):\n",
    "    result = []\n",
    "    for item in l:\n",
    "        if listtype(item):\n",
    "            result.extend(flatten(item))\n",
    "        else:\n",
    "            result.append(item)\n",
    "    return result\n",
    "\n",
    "print(flatten([1,2,3,(4,5,6)]))"
   ]
  },
  {
   "cell_type": "code",
   "execution_count": 14,
   "id": "00228c47-0652-453b-898a-de8794604d06",
   "metadata": {},
   "outputs": [
    {
     "name": "stdout",
     "output_type": "stream",
     "text": [
      "Flat List [1, 2, 3, (4, 5, 6)]\n"
     ]
    }
   ],
   "source": [
    "\n",
    "def flat(lis):\n",
    "    flatList = []\n",
    "    # Iterate with outer list\n",
    "    for element in lis:\n",
    "        if type(element) is list:\n",
    "            # Check if type is list than iterate through the sublist\n",
    "            for item in element:\n",
    "                flatList.append(item)\n",
    "        else:\n",
    "            flatList.append(element)\n",
    "    return flatList\n",
    " \n",
    " \n",
    "lis = [1,2,3,(4,5,6)]\n",
    "\n",
    "print('Flat List', flat(lis))"
   ]
  },
  {
   "cell_type": "code",
   "execution_count": null,
   "id": "9e56ff5f-4e36-4949-99b2-a812dd731349",
   "metadata": {},
   "outputs": [],
   "source": [
    "#Q1 rainaverage function \n",
    "def rainaverage(l):\n",
    "    city_rainfall = {}\n",
    "    for city, rainfall in l:\n",
    "        if city not in city_rainfall:\n",
    "            city_rainfall[city] = [rainfall]\n",
    "        else:\n",
    "            city_rainfall[city].append(rainfall)\n",
    "    result = [(city, sum(rainfall) / len(rainfall)) for city, rainfall in city_rainfall.items()]\n",
    "    result.sort(key=lambda x: x[0])\n",
    "    return result\n",
    "\n",
    "\n",
    "#Q2 flatten program :  basically to correct the brackets!\n",
    "def listtype(l):\n",
    "  return(type(l) == type([]))\n",
    "def flatten(l):\n",
    "    result = []\n",
    "    for item in l:\n",
    "        if listtype(item):\n",
    "            result.extend(flatten(item))\n",
    "        else:\n",
    "            result.append(item)\n",
    "    return result"
   ]
  }
 ],
 "metadata": {
  "kernelspec": {
   "display_name": "Python 3 (ipykernel)",
   "language": "python",
   "name": "python3"
  },
  "language_info": {
   "codemirror_mode": {
    "name": "ipython",
    "version": 3
   },
   "file_extension": ".py",
   "mimetype": "text/x-python",
   "name": "python",
   "nbconvert_exporter": "python",
   "pygments_lexer": "ipython3",
   "version": "3.9.13"
  }
 },
 "nbformat": 4,
 "nbformat_minor": 5
}
