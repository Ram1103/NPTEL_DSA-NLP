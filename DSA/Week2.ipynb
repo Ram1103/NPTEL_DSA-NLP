{
 "cells": [
  {
   "cell_type": "code",
   "execution_count": 4,
   "id": "0296db01-f30d-48ae-b1f2-c0bf2d989b63",
   "metadata": {},
   "outputs": [],
   "source": [
    "#question 1 : prime partition 1\n",
    "def primepartition(num):\n",
    "    primelist=[]\n",
    "    for i in range(2,num + 1):\n",
    "        for p in range(2,i):\n",
    "            if (i % p) == 0:\n",
    "                break\n",
    "        else:\n",
    "            primelist.append(i)\n",
    "\n",
    "\n",
    "    for x in primelist:\n",
    "        y= num-x\n",
    "        for z in range(2,y):\n",
    "            if y%z == 0:\n",
    "                return False\n",
    "\n",
    "        return True"
   ]
  },
  {
   "cell_type": "code",
   "execution_count": 5,
   "id": "0fd4245d-b6f8-41d3-9f45-82f6d6947172",
   "metadata": {},
   "outputs": [
    {
     "data": {
      "text/plain": [
       "False"
      ]
     },
     "execution_count": 8,
     "metadata": {},
     "output_type": "execute_result"
    }
   ],
   "source": [
    " primepartition(7)"
   ]
  },
  {
   "cell_type": "code",
   "execution_count": 9,
   "id": "1b8166e5-893f-42b1-a730-93412b5d2b9b",
   "metadata": {},
   "outputs": [
    {
     "data": {
      "text/plain": [
       "False"
      ]
     },
     "execution_count": 9,
     "metadata": {},
     "output_type": "execute_result"
    }
   ],
   "source": [
    "primepartition(185)"
   ]
  },
  {
   "cell_type": "code",
   "execution_count": 10,
   "id": "4a69b624-0935-44a9-8ba7-f5321e33da1b",
   "metadata": {},
   "outputs": [
    {
     "data": {
      "text/plain": [
       "False"
      ]
     },
     "execution_count": 10,
     "metadata": {},
     "output_type": "execute_result"
    }
   ],
   "source": [
    "primepartition(3432)"
   ]
  },
  {
   "cell_type": "code",
   "execution_count": 11,
   "id": "ee3ef286-f868-4139-846f-69a1a73fe693",
   "metadata": {},
   "outputs": [],
   "source": [
    "#question 1 : prime partition 2\n",
    "def primepartition(num):\n",
    "    primelist = primes(num)\n",
    "    for x in primelist:\n",
    "        y= num-x\n",
    "        if y in primelist:\n",
    "            return True\n",
    "    else:\n",
    "        return False\n",
    "\n",
    "def primes(num):\n",
    "    primelist=[]\n",
    "    for i in range(2,num + 1):\n",
    "        for p in range(2,i):\n",
    "            if (i % p) == 0:\n",
    "                break\n",
    "        else:\n",
    "            primelist.append(i)\n",
    "    return primelist"
   ]
  },
  {
   "cell_type": "code",
   "execution_count": 12,
   "id": "34dadf5b-3840-4cac-be96-f23d8ec6113b",
   "metadata": {},
   "outputs": [
    {
     "data": {
      "text/plain": [
       "True"
      ]
     },
     "execution_count": 12,
     "metadata": {},
     "output_type": "execute_result"
    }
   ],
   "source": [
    "primepartition(3432)"
   ]
  },
  {
   "cell_type": "code",
   "execution_count": 13,
   "id": "52fa2470-1b1b-402f-a875-7a3e361ac7eb",
   "metadata": {},
   "outputs": [
    {
     "data": {
      "text/plain": [
       "False"
      ]
     },
     "execution_count": 13,
     "metadata": {},
     "output_type": "execute_result"
    }
   ],
   "source": [
    " primepartition(185)"
   ]
  },
  {
   "cell_type": "code",
   "execution_count": 25,
   "id": "92417328-22ed-49a6-857c-3702ffbe70c4",
   "metadata": {},
   "outputs": [
    {
     "data": {
      "text/plain": [
       "True"
      ]
     },
     "execution_count": 25,
     "metadata": {},
     "output_type": "execute_result"
    }
   ],
   "source": [
    " primepartition(7)"
   ]
  },
  {
   "cell_type": "code",
   "execution_count": 33,
   "id": "4c2cfb95-6ee1-444b-8a95-5f78f6e6a8c2",
   "metadata": {},
   "outputs": [],
   "source": [
    "#question 1 :prime partition 3\n",
    "#https://github.com/sudheernaidu53/Programming-Data-Structures-and-Algorithms-using-Python-nptel-2019/blob/master/week%202/prog_assignment_week2.py\n",
    "def isP(n):\n",
    "    if n==2:\n",
    "        return True\n",
    "    if n%2==0:\n",
    "        return False\n",
    "    return all(n%x>0 for x in range(3, int(n**0.5)+1, 2))\n",
    " \n",
    "def genP(n):\n",
    "    \n",
    "    p = [2]\n",
    "    p.extend([x for x in range(3, n+1, 2) if isP(x)])\n",
    "    return p\n",
    "def primepartition(n):\n",
    "    p = genP(n)\n",
    "    for i in range(0,len(p)):\n",
    "        for j in range(0,len(p)):\n",
    "            if p[i]+p[j]==n:\n",
    "                return True\n",
    "    return False"
   ]
  },
  {
   "cell_type": "code",
   "execution_count": 24,
   "id": "9a40ed46-c8ef-4554-965f-d604cec92423",
   "metadata": {},
   "outputs": [
    {
     "data": {
      "text/plain": [
       "False"
      ]
     },
     "execution_count": 24,
     "metadata": {},
     "output_type": "execute_result"
    }
   ],
   "source": [
    " primepartition(185)"
   ]
  },
  {
   "cell_type": "code",
   "execution_count": 22,
   "id": "8069e07a-8332-4fb9-84da-185f11284b78",
   "metadata": {},
   "outputs": [
    {
     "data": {
      "text/plain": [
       "True"
      ]
     },
     "execution_count": 22,
     "metadata": {},
     "output_type": "execute_result"
    }
   ],
   "source": [
    "primepartition(3432)"
   ]
  },
  {
   "cell_type": "code",
   "execution_count": 31,
   "id": "15d3cf45-a5cd-44be-92c6-e4dce7fab6ff",
   "metadata": {},
   "outputs": [],
   "source": [
    "#question 2 : matched \n",
    "\n",
    "def matched(n):\n",
    "    n=list(n)\n",
    "    c=0\n",
    "    for i in range(len(n)):\n",
    "        if c==-1:\n",
    "            return False\n",
    "        if n[i]==\"(\":\n",
    "            c=c+1\n",
    "        if n[i]==\")\":\n",
    "            c=c-1\n",
    "    if c==0:\n",
    "        return True\n",
    "    else:\n",
    "        return False"
   ]
  },
  {
   "cell_type": "code",
   "execution_count": 32,
   "id": "fc6e28a3-c4a0-4b3f-b4cd-a1a116df57ba",
   "metadata": {},
   "outputs": [
    {
     "data": {
      "text/plain": [
       "True"
      ]
     },
     "execution_count": 32,
     "metadata": {},
     "output_type": "execute_result"
    }
   ],
   "source": [
    "matched(\"zb%78\")"
   ]
  },
  {
   "cell_type": "code",
   "execution_count": 29,
   "id": "50410121-fe4a-4972-b17f-f8274d851619",
   "metadata": {},
   "outputs": [
    {
     "data": {
      "text/plain": [
       "False"
      ]
     },
     "execution_count": 29,
     "metadata": {},
     "output_type": "execute_result"
    }
   ],
   "source": [
    "matched(\"(7)(a\")"
   ]
  },
  {
   "cell_type": "code",
   "execution_count": 30,
   "id": "825b4ef9-e314-41b8-b75a-77dbd7c6363c",
   "metadata": {},
   "outputs": [
    {
     "data": {
      "text/plain": [
       "True"
      ]
     },
     "execution_count": 30,
     "metadata": {},
     "output_type": "execute_result"
    }
   ],
   "source": [
    "matched(\"((jkl)78(A)&l(8(dd(FJI:),):)?)\")"
   ]
  },
  {
   "cell_type": "code",
   "execution_count": 38,
   "id": "56be159d-3356-46f1-935a-cbdb6ce33e3b",
   "metadata": {},
   "outputs": [],
   "source": [
    "#question 3 : rotating list \n",
    "def rotatelist(l, k):\n",
    "    n = len(l)\n",
    "    if k < 0:\n",
    "        return l\n",
    "    d=l\n",
    "    while(k>0):\n",
    "        temp=d[0]\n",
    "        for i in range(n-1):\n",
    "            d[i]=d[i+1]\n",
    "            d[i+1]=temp\n",
    "        k=k-1\n",
    "    return d"
   ]
  },
  {
   "cell_type": "code",
   "execution_count": 39,
   "id": "d6d579f1-9522-41ac-811a-4b4b29a1a89c",
   "metadata": {},
   "outputs": [
    {
     "data": {
      "text/plain": [
       "[2, 3, 4, 5, 1]"
      ]
     },
     "execution_count": 39,
     "metadata": {},
     "output_type": "execute_result"
    }
   ],
   "source": [
    "rotatelist([1,2,3,4,5],1)"
   ]
  },
  {
   "cell_type": "code",
   "execution_count": 40,
   "id": "a1aefc42-bc9d-4977-b4a9-39bbb7db93e7",
   "metadata": {},
   "outputs": [
    {
     "data": {
      "text/plain": [
       "[3, 4, 5, 1, 2]"
      ]
     },
     "execution_count": 40,
     "metadata": {},
     "output_type": "execute_result"
    }
   ],
   "source": [
    "rotatelist([1,2,3,4,5],12)"
   ]
  },
  {
   "cell_type": "code",
   "execution_count": 50,
   "id": "03883b46-0194-4dde-aba9-e1725c7e3b02",
   "metadata": {},
   "outputs": [],
   "source": [
    "def rotatelist(l,k):\n",
    "    t = len(l)\n",
    "    if k < 0:\n",
    "        return l\n",
    "     \n",
    "    d=l\n",
    "    while(k>0):\n",
    "        temp=d[0]\n",
    "        for i in range(t-1):\n",
    "            d[i]=d[i+1]\n",
    "            d[i+1]=temp\n",
    "        k=k-1\n",
    "    return d"
   ]
  },
  {
   "cell_type": "code",
   "execution_count": 51,
   "id": "ec494f20-be60-4667-bb4f-12202908def6",
   "metadata": {},
   "outputs": [
    {
     "data": {
      "text/plain": [
       "[3, 4, 5, 1, 2]"
      ]
     },
     "execution_count": 51,
     "metadata": {},
     "output_type": "execute_result"
    }
   ],
   "source": [
    "rotatelist([1,2,3,4,5],12)"
   ]
  },
  {
   "cell_type": "code",
   "execution_count": 45,
   "id": "b5eb90aa-4fd1-4587-a2c8-07496173d913",
   "metadata": {},
   "outputs": [],
   "source": []
  },
  {
   "cell_type": "code",
   "execution_count": null,
   "id": "f47b1395-f4cf-4490-ad09-02d7543ae8e8",
   "metadata": {},
   "outputs": [],
   "source": []
  }
 ],
 "metadata": {
  "kernelspec": {
   "display_name": "Python 3 (ipykernel)",
   "language": "python",
   "name": "python3"
  },
  "language_info": {
   "codemirror_mode": {
    "name": "ipython",
    "version": 3
   },
   "file_extension": ".py",
   "mimetype": "text/x-python",
   "name": "python",
   "nbconvert_exporter": "python",
   "pygments_lexer": "ipython3",
   "version": "3.9.13"
  }
 },
 "nbformat": 4,
 "nbformat_minor": 5
}
