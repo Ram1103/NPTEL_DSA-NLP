{
 "cells": [
  {
   "cell_type": "code",
   "execution_count": 19,
   "metadata": {},
   "outputs": [
    {
     "name": "stdout",
     "output_type": "stream",
     "text": [
      "[1, 2, 5, 7]\n"
     ]
    }
   ],
   "source": [
    "#from front - (do not use for NPTEL) : PLAYGROUND\n",
    "def remdup(l):\n",
    "    return(myremdup(l,[]))\n",
    "\n",
    "def myremdup(l,s):\n",
    "    if l == []:\n",
    "        return([])\n",
    "    else:\n",
    "        if l[0] in s:\n",
    "            return(myremdup(l[1:],s))\n",
    "        else:\n",
    "            return([l[0]]+myremdup(l[1:],s+[l[0]]))\n",
    "\n",
    "print(remdup([1,2,5,7,2,1,5]))"
   ]
  },
  {
   "cell_type": "code",
   "execution_count": 20,
   "metadata": {},
   "outputs": [
    {
     "ename": "TypeError",
     "evalue": "'int' object is not reversible",
     "output_type": "error",
     "traceback": [
      "\u001b[1;31m---------------------------------------------------------------------------\u001b[0m",
      "\u001b[1;31mTypeError\u001b[0m                                 Traceback (most recent call last)",
      "\u001b[1;32m~\\AppData\\Local\\Temp\\ipykernel_16000\\4124522929.py\u001b[0m in \u001b[0;36m<module>\u001b[1;34m\u001b[0m\n\u001b[0;32m      9\u001b[0m \u001b[1;33m\u001b[0m\u001b[0m\n\u001b[0;32m     10\u001b[0m \u001b[1;33m\u001b[0m\u001b[0m\n\u001b[1;32m---> 11\u001b[1;33m \u001b[0mprint\u001b[0m \u001b[1;33m(\u001b[0m\u001b[0mremdup\u001b[0m\u001b[1;33m(\u001b[0m\u001b[1;33m[\u001b[0m\u001b[1;36m3\u001b[0m\u001b[1;33m,\u001b[0m\u001b[1;36m5\u001b[0m\u001b[1;33m,\u001b[0m\u001b[1;36m7\u001b[0m\u001b[1;33m,\u001b[0m\u001b[1;36m5\u001b[0m\u001b[1;33m,\u001b[0m\u001b[1;36m3\u001b[0m\u001b[1;33m,\u001b[0m\u001b[1;36m7\u001b[0m\u001b[1;33m,\u001b[0m\u001b[1;36m10\u001b[0m\u001b[1;33m]\u001b[0m\u001b[1;33m)\u001b[0m\u001b[1;33m)\u001b[0m\u001b[1;33m\u001b[0m\u001b[1;33m\u001b[0m\u001b[0m\n\u001b[0m",
      "\u001b[1;32m~\\AppData\\Local\\Temp\\ipykernel_16000\\4124522929.py\u001b[0m in \u001b[0;36mremdup\u001b[1;34m(l)\u001b[0m\n\u001b[0;32m      2\u001b[0m     \u001b[1;32mfor\u001b[0m \u001b[0mlast\u001b[0m \u001b[1;32min\u001b[0m \u001b[0mreversed\u001b[0m\u001b[1;33m(\u001b[0m\u001b[0ml\u001b[0m\u001b[1;33m)\u001b[0m\u001b[1;33m:\u001b[0m\u001b[1;33m\u001b[0m\u001b[1;33m\u001b[0m\u001b[0m\n\u001b[0;32m      3\u001b[0m         \u001b[0mpos\u001b[0m\u001b[1;33m=\u001b[0m\u001b[0ml\u001b[0m\u001b[1;33m.\u001b[0m\u001b[0mindex\u001b[0m\u001b[1;33m(\u001b[0m\u001b[0mlast\u001b[0m\u001b[1;33m)\u001b[0m\u001b[1;33m\u001b[0m\u001b[1;33m\u001b[0m\u001b[0m\n\u001b[1;32m----> 4\u001b[1;33m         \u001b[1;32mfor\u001b[0m \u001b[0msearch\u001b[0m \u001b[1;32min\u001b[0m \u001b[0mreversed\u001b[0m\u001b[1;33m(\u001b[0m\u001b[0ml\u001b[0m\u001b[1;33m[\u001b[0m\u001b[0mpos\u001b[0m\u001b[1;33m]\u001b[0m\u001b[1;33m)\u001b[0m\u001b[1;33m:\u001b[0m\u001b[1;33m\u001b[0m\u001b[1;33m\u001b[0m\u001b[0m\n\u001b[0m\u001b[0;32m      5\u001b[0m             \u001b[1;32mif\u001b[0m \u001b[0msearch\u001b[0m\u001b[1;33m==\u001b[0m\u001b[0mlast\u001b[0m\u001b[1;33m:\u001b[0m\u001b[1;33m\u001b[0m\u001b[1;33m\u001b[0m\u001b[0m\n\u001b[0;32m      6\u001b[0m                 \u001b[0ml\u001b[0m\u001b[1;33m.\u001b[0m\u001b[0mremove\u001b[0m\u001b[1;33m(\u001b[0m\u001b[0msearch\u001b[0m\u001b[1;33m)\u001b[0m\u001b[1;33m\u001b[0m\u001b[1;33m\u001b[0m\u001b[0m\n",
      "\u001b[1;31mTypeError\u001b[0m: 'int' object is not reversible"
     ]
    }
   ],
   "source": [
    "#temp - (do not use for NPTEL) : PLAYGROUND\n",
    "def remdup(l):\n",
    "    for last in reversed(l):\n",
    "        pos=l.index(last)\n",
    "        for search in reversed(l[pos]):\n",
    "            if search==last:\n",
    "                l.remove(search)\n",
    "\n",
    "    print(l)\n",
    "\n",
    "\n",
    "print (remdup([3,5,7,5,3,7,10]))\n"
   ]
  },
  {
   "cell_type": "code",
   "execution_count": 7,
   "metadata": {},
   "outputs": [
    {
     "name": "stdout",
     "output_type": "stream",
     "text": [
      "[7, 2, 1, 5]\n"
     ]
    }
   ],
   "source": [
    "#Q1 - remdup\n",
    "def remdup(l):\n",
    "    seen = set()\n",
    "    for i in range(len(l)-1, -1, -1):\n",
    "        if l[i] in seen:\n",
    "            del l[i]\n",
    "        else:\n",
    "            seen.add(l[i])\n",
    "    return (l)        \n",
    "\n",
    "print(remdup([1,2,5,7,2,1,5]))"
   ]
  },
  {
   "cell_type": "code",
   "execution_count": 18,
   "metadata": {},
   "outputs": [
    {
     "name": "stdout",
     "output_type": "stream",
     "text": [
      "[10, -125]\n"
     ]
    }
   ],
   "source": [
    "#Q2 - splitsum \n",
    "def splitsum(l):\n",
    "    pos=0\n",
    "    neg=0\n",
    "    for n in l:\n",
    "        if n>0:\n",
    "            pos+=n**2\n",
    "        elif n<0:\n",
    "            neg+=n**3\n",
    "        else:\n",
    "            continue\n",
    "    print([pos,neg])\n",
    "\n",
    "splitsum([1,3,-5])\n"
   ]
  },
  {
   "cell_type": "code",
   "execution_count": 15,
   "metadata": {},
   "outputs": [
    {
     "data": {
      "text/plain": [
       "[[3, 4], [1, 2]]"
      ]
     },
     "execution_count": 15,
     "metadata": {},
     "output_type": "execute_result"
    }
   ],
   "source": [
    "#with 2 functions , but not optimised (do not use for NPTEL) : PLAYGROUND\n",
    "def  matrixflip(l,d):\n",
    "   m=l[:]\n",
    "   def ver(m):\n",
    "       count=1\n",
    "       n=len(m)\n",
    "       for a in range(n-1):\n",
    "           m[a],m[n-count]=m[n-count],m[a]\n",
    "           count=count+1\n",
    "       return(m)\n",
    "   if d=='h':\n",
    "       n=len(m)\n",
    "       for a in range(n):\n",
    "           m[a]=m[a][::-1]\n",
    "       return(m)\n",
    "       \n",
    "   elif d=='v':\n",
    "       return(ver(m))\n",
    "   else:\n",
    "       return(m)\n",
    "\n",
    "matrixflip([[1, 2], [3, 4]],'h')    \n",
    "matrixflip([[1, 2], [3, 4]],'v')   "
   ]
  },
  {
   "cell_type": "code",
   "execution_count": 17,
   "metadata": {},
   "outputs": [
    {
     "data": {
      "text/plain": [
       "[[3, 4], [1, 2]]"
      ]
     },
     "execution_count": 17,
     "metadata": {},
     "output_type": "execute_result"
    }
   ],
   "source": [
    "#Q3 - matrixflip\n",
    "\n",
    "def  matrixflip(l,d):\n",
    "   m=l[:]\n",
    "   if d=='v':\n",
    "       count=1\n",
    "       n=len(m)\n",
    "       for a in range(n-1):\n",
    "           m[a],m[n-count]=m[n-count],m[a]\n",
    "           count=count+1\n",
    "       return(m)\n",
    "   elif d=='h':\n",
    "       n=len(m)\n",
    "       for a in range(n):\n",
    "           m[a]=m[a][::-1]\n",
    "       return(m)\n",
    "   else:\n",
    "       return(m)\n",
    "\n",
    "matrixflip([[1, 2], [3, 4]],'h')    \n",
    "matrixflip([[1, 2], [3, 4]],'v')   "
   ]
  },
  {
   "cell_type": "code",
   "execution_count": null,
   "metadata": {},
   "outputs": [],
   "source": []
  }
 ],
 "metadata": {
  "kernelspec": {
   "display_name": "base",
   "language": "python",
   "name": "python3"
  },
  "language_info": {
   "codemirror_mode": {
    "name": "ipython",
    "version": 3
   },
   "file_extension": ".py",
   "mimetype": "text/x-python",
   "name": "python",
   "nbconvert_exporter": "python",
   "pygments_lexer": "ipython3",
   "version": "3.9.13"
  },
  "orig_nbformat": 4,
  "vscode": {
   "interpreter": {
    "hash": "263930470851f494f0ed2879c35b57985588df20f9e529b86e97dd5eb9ddc466"
   }
  }
 },
 "nbformat": 4,
 "nbformat_minor": 2
}
