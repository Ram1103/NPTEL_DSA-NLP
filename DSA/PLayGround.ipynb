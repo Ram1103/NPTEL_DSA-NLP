{
 "cells": [
  {
   "cell_type": "code",
   "execution_count": null,
   "metadata": {},
   "outputs": [],
   "source": [
    "def partition(num):\n",
    "    primelist=[]\n",
    "    for i in range(2,num + 1):\n",
    "        for p in range(2,i):\n",
    "            if (i % p) == 0:\n",
    "                break\n",
    "        else:\n",
    "            primelist.append(i)\n",
    "\n",
    "\n",
    "    for x in primelist:\n",
    "        y= num-x\n",
    "        for z in range(2,y):\n",
    "            if y%z == 0:\n",
    "                return False\n",
    "\n",
    "        return True"
   ]
  }
 ],
 "metadata": {
  "kernelspec": {
   "display_name": "base",
   "language": "python",
   "name": "python3"
  },
  "language_info": {
   "name": "python",
   "version": "3.9.13"
  },
  "orig_nbformat": 4,
  "vscode": {
   "interpreter": {
    "hash": "263930470851f494f0ed2879c35b57985588df20f9e529b86e97dd5eb9ddc466"
   }
  }
 },
 "nbformat": 4,
 "nbformat_minor": 2
}
